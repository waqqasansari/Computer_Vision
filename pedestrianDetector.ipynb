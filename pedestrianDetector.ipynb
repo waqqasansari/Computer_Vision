{
 "cells": [
  {
   "cell_type": "code",
   "execution_count": 12,
   "metadata": {},
   "outputs": [],
   "source": [
    "import numpy as np\n",
    "import cv2\n",
    "import time"
   ]
  },
  {
   "cell_type": "code",
   "execution_count": 13,
   "metadata": {},
   "outputs": [],
   "source": [
    "pedestrian_cascade = 'C:\\\\Users\\\\waqqas\\\\CarPedestrianDetection\\\\cascades\\\\haarcascade_fullbody.xml'\n",
    "pedestrian_classifier = cv2.CascadeClassifier(pedestrian_cascade)\n",
    "capture = cv2.VideoCapture('C:\\\\Users\\\\waqqas\\\\CarPedestrianDetection\\\\files\\\\walking.avi')\n",
    "\n",
    "while capture.isOpened():\n",
    "    response, frame = capture.read()\n",
    "    \n",
    "    if response:\n",
    "        \n",
    "        gray = cv2.cvtColor(frame, cv2.COLOR_BGR2GRAY)\n",
    "        pedestrian = pedestrian_classifier.detectMultiScale(gray, 1.2, 3)\n",
    "        \n",
    "        for (x, y, w, h) in pedestrian:\n",
    "            \n",
    "            cv2.rectangle(frame, (x,y), (x+w, y+h), (0,0,0), 3)\n",
    "            cv2.imshow('pedestrian', frame)\n",
    "            \n",
    "        if cv2.waitKey(1) & 0xFF == ord('q'):\n",
    "            \n",
    "            break\n",
    "            \n",
    "    else:\n",
    "        break\n",
    "capture.release()\n",
    "cv2.destroyAllWindows()"
   ]
  },
  {
   "cell_type": "code",
   "execution_count": null,
   "metadata": {},
   "outputs": [],
   "source": []
  }
 ],
 "metadata": {
  "kernelspec": {
   "display_name": "Python 3",
   "language": "python",
   "name": "python3"
  },
  "language_info": {
   "codemirror_mode": {
    "name": "ipython",
    "version": 3
   },
   "file_extension": ".py",
   "mimetype": "text/x-python",
   "name": "python",
   "nbconvert_exporter": "python",
   "pygments_lexer": "ipython3",
   "version": "3.7.3"
  }
 },
 "nbformat": 4,
 "nbformat_minor": 2
}
